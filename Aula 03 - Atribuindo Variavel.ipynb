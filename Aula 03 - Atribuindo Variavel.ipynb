{
 "cells": [
  {
   "cell_type": "markdown",
   "id": "0075ee23",
   "metadata": {},
   "source": [
    "Python Básico\n",
    "\n",
    "Profº Adelmo Rodrigues\n",
    "\n",
    "https://github.com/ProfAdelmo"
   ]
  },
  {
   "cell_type": "markdown",
   "id": "88269508",
   "metadata": {},
   "source": [
    "Atribuindo Valor a uma Variável"
   ]
  },
  {
   "cell_type": "code",
   "execution_count": 1,
   "id": "24e324c3",
   "metadata": {},
   "outputs": [],
   "source": [
    "# Atribuindo o valor à variável\n",
    "x = 12"
   ]
  },
  {
   "cell_type": "code",
   "execution_count": 2,
   "id": "3e05e04c",
   "metadata": {},
   "outputs": [
    {
     "name": "stdout",
     "output_type": "stream",
     "text": [
      "12\n"
     ]
    }
   ],
   "source": [
    "# Imprimindo o valor da variável\n",
    "print(x)"
   ]
  },
  {
   "cell_type": "code",
   "execution_count": 3,
   "id": "b3349e32",
   "metadata": {},
   "outputs": [
    {
     "ename": "NameError",
     "evalue": "name 'y' is not defined",
     "output_type": "error",
     "traceback": [
      "\u001b[1;31m---------------------------------------------------------------------------\u001b[0m",
      "\u001b[1;31mNameError\u001b[0m                                 Traceback (most recent call last)",
      "\u001b[1;32m<ipython-input-3-7dd0c7ede8a7>\u001b[0m in \u001b[0;36m<module>\u001b[1;34m\u001b[0m\n\u001b[0;32m      1\u001b[0m \u001b[1;31m# Não podemos utilizar uma variável que não foi definida\u001b[0m\u001b[1;33m\u001b[0m\u001b[1;33m\u001b[0m\u001b[1;33m\u001b[0m\u001b[0m\n\u001b[1;32m----> 2\u001b[1;33m \u001b[0my\u001b[0m\u001b[1;33m\u001b[0m\u001b[1;33m\u001b[0m\u001b[0m\n\u001b[0m",
      "\u001b[1;31mNameError\u001b[0m: name 'y' is not defined"
     ]
    }
   ],
   "source": [
    "# Não podemos utilizar uma variável que não foi definida\n",
    "y"
   ]
  },
  {
   "cell_type": "code",
   "execution_count": 4,
   "id": "efd21b1c",
   "metadata": {},
   "outputs": [
    {
     "data": {
      "text/plain": [
       "int"
      ]
     },
     "execution_count": 4,
     "metadata": {},
     "output_type": "execute_result"
    }
   ],
   "source": [
    "# Achando o tipo da variável atribuída\n",
    "type(x)"
   ]
  },
  {
   "cell_type": "code",
   "execution_count": 5,
   "id": "bb59bebe",
   "metadata": {},
   "outputs": [
    {
     "name": "stdout",
     "output_type": "stream",
     "text": [
      "2\n",
      "4\n",
      "6\n"
     ]
    }
   ],
   "source": [
    "# Declaração de várias variáveis ao mesmo tempo\n",
    "x,y,z = 2,4,6\n",
    "print(x)\n",
    "print(y)\n",
    "print(z)"
   ]
  },
  {
   "cell_type": "markdown",
   "id": "ead18e14",
   "metadata": {},
   "source": [
    "Operações com as variáveis"
   ]
  },
  {
   "cell_type": "code",
   "execution_count": 6,
   "id": "b35bdeb0",
   "metadata": {},
   "outputs": [
    {
     "data": {
      "text/plain": [
       "8"
      ]
     },
     "execution_count": 6,
     "metadata": {},
     "output_type": "execute_result"
    }
   ],
   "source": [
    "x * y"
   ]
  },
  {
   "cell_type": "code",
   "execution_count": 7,
   "id": "61f9ac96",
   "metadata": {},
   "outputs": [
    {
     "data": {
      "text/plain": [
       "14"
      ]
     },
     "execution_count": 7,
     "metadata": {},
     "output_type": "execute_result"
    }
   ],
   "source": [
    "x * y + z"
   ]
  },
  {
   "cell_type": "code",
   "execution_count": 8,
   "id": "ec98cf96",
   "metadata": {},
   "outputs": [
    {
     "data": {
      "text/plain": [
       "20"
      ]
     },
     "execution_count": 8,
     "metadata": {},
     "output_type": "execute_result"
    }
   ],
   "source": [
    "x * y + x * z"
   ]
  },
  {
   "cell_type": "code",
   "execution_count": 9,
   "id": "5ef538ee",
   "metadata": {},
   "outputs": [
    {
     "data": {
      "text/plain": [
       "12"
      ]
     },
     "execution_count": 9,
     "metadata": {},
     "output_type": "execute_result"
    }
   ],
   "source": [
    "x * (y+x)"
   ]
  },
  {
   "cell_type": "markdown",
   "id": "da70698d",
   "metadata": {},
   "source": [
    "Concatenando Strings"
   ]
  },
  {
   "cell_type": "code",
   "execution_count": 10,
   "id": "471ce83c",
   "metadata": {},
   "outputs": [
    {
     "data": {
      "text/plain": [
       "'oiAdelmo'"
      ]
     },
     "execution_count": 10,
     "metadata": {},
     "output_type": "execute_result"
    }
   ],
   "source": [
    "x = \"oi\"\n",
    "y = \"Adelmo\"\n",
    "\n",
    "x + y"
   ]
  },
  {
   "cell_type": "code",
   "execution_count": 11,
   "id": "25a1a0a2",
   "metadata": {},
   "outputs": [
    {
     "data": {
      "text/plain": [
       "'oi Adelmo'"
      ]
     },
     "execution_count": 11,
     "metadata": {},
     "output_type": "execute_result"
    }
   ],
   "source": [
    "x = \"oi\"\n",
    "y = \"Adelmo\"\n",
    "\n",
    "x + \" \" + y"
   ]
  },
  {
   "cell_type": "code",
   "execution_count": null,
   "id": "5e5a7ecd",
   "metadata": {},
   "outputs": [],
   "source": []
  }
 ],
 "metadata": {
  "kernelspec": {
   "display_name": "Python 3",
   "language": "python",
   "name": "python3"
  },
  "language_info": {
   "codemirror_mode": {
    "name": "ipython",
    "version": 3
   },
   "file_extension": ".py",
   "mimetype": "text/x-python",
   "name": "python",
   "nbconvert_exporter": "python",
   "pygments_lexer": "ipython3",
   "version": "3.8.8"
  }
 },
 "nbformat": 4,
 "nbformat_minor": 5
}
