{
 "cells": [
  {
   "cell_type": "markdown",
   "id": "c7fd72b0",
   "metadata": {},
   "source": [
    "Python Básico\n",
    "\n",
    "Profº Adelmo Rodrigues\n",
    "\n",
    "https://github.com/ProfAdelmo/DatascienteStats"
   ]
  },
  {
   "cell_type": "markdown",
   "id": "c5537d43",
   "metadata": {},
   "source": [
    "Funções: round, pow, abs, max e min"
   ]
  },
  {
   "cell_type": "code",
   "execution_count": 1,
   "id": "52a32d9c",
   "metadata": {},
   "outputs": [
    {
     "data": {
      "text/plain": [
       "3.14"
      ]
     },
     "execution_count": 1,
     "metadata": {},
     "output_type": "execute_result"
    }
   ],
   "source": [
    "# Retorna o valor com arredondamento de 2 casas decimais\n",
    "round(3.14151922,2)"
   ]
  },
  {
   "cell_type": "code",
   "execution_count": 2,
   "id": "7761824b",
   "metadata": {},
   "outputs": [
    {
     "data": {
      "text/plain": [
       "3.142"
      ]
     },
     "execution_count": 2,
     "metadata": {},
     "output_type": "execute_result"
    }
   ],
   "source": [
    "# Retorna o valor com arredondamento de 3 casas decimais\n",
    "round(3.14151922,3)"
   ]
  },
  {
   "cell_type": "code",
   "execution_count": 3,
   "id": "e62dee6b",
   "metadata": {},
   "outputs": [
    {
     "data": {
      "text/plain": [
       "8"
      ]
     },
     "execution_count": 3,
     "metadata": {},
     "output_type": "execute_result"
    }
   ],
   "source": [
    "# Retorna o valor absoluto (positivo)\n",
    "abs(-8)"
   ]
  },
  {
   "cell_type": "code",
   "execution_count": 4,
   "id": "b1e6201f",
   "metadata": {},
   "outputs": [
    {
     "data": {
      "text/plain": [
       "81"
      ]
     },
     "execution_count": 4,
     "metadata": {},
     "output_type": "execute_result"
    }
   ],
   "source": [
    "# Potência\n",
    "pow(3,4)"
   ]
  },
  {
   "cell_type": "code",
   "execution_count": 5,
   "id": "151efd05",
   "metadata": {},
   "outputs": [
    {
     "name": "stdout",
     "output_type": "stream",
     "text": [
      "5\n"
     ]
    }
   ],
   "source": [
    "# Retorna o valor máximo\n",
    "x = (2,3,4,5)\n",
    "x = max(x)\n",
    "print(x)"
   ]
  },
  {
   "cell_type": "code",
   "execution_count": 6,
   "id": "babc63d0",
   "metadata": {},
   "outputs": [
    {
     "name": "stdout",
     "output_type": "stream",
     "text": [
      "2\n"
     ]
    }
   ],
   "source": [
    "# Retorna o valor minimo\n",
    "x = (2,3,4,5)\n",
    "x = min(x)\n",
    "print(x)"
   ]
  }
 ],
 "metadata": {
  "kernelspec": {
   "display_name": "Python 3",
   "language": "python",
   "name": "python3"
  },
  "language_info": {
   "codemirror_mode": {
    "name": "ipython",
    "version": 3
   },
   "file_extension": ".py",
   "mimetype": "text/x-python",
   "name": "python",
   "nbconvert_exporter": "python",
   "pygments_lexer": "ipython3",
   "version": "3.8.8"
  }
 },
 "nbformat": 4,
 "nbformat_minor": 5
}
