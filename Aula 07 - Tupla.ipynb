{
 "cells": [
  {
   "cell_type": "markdown",
   "id": "11d28554",
   "metadata": {},
   "source": [
    "Python Básico\n",
    "\n",
    "Profº Adelmo Rodrigues\n",
    "\n",
    "https://github.com/ProfAdelmo"
   ]
  },
  {
   "cell_type": "markdown",
   "id": "89488d0c",
   "metadata": {},
   "source": [
    "Tuplas (Imutável)"
   ]
  },
  {
   "cell_type": "code",
   "execution_count": 69,
   "id": "2e7e9221",
   "metadata": {},
   "outputs": [
    {
     "name": "stdout",
     "output_type": "stream",
     "text": [
      "('oi', 99, 'tchau', 100)\n"
     ]
    }
   ],
   "source": [
    "# Criando uma tupla\n",
    "tupla1 = (\"oi\", 99, \"tchau\", 100)\n",
    "print(tupla1)"
   ]
  },
  {
   "cell_type": "code",
   "execution_count": 70,
   "id": "b8f4d9aa",
   "metadata": {},
   "outputs": [
    {
     "ename": "AttributeError",
     "evalue": "'tuple' object has no attribute 'append'",
     "output_type": "error",
     "traceback": [
      "\u001b[1;31m---------------------------------------------------------------------------\u001b[0m",
      "\u001b[1;31mAttributeError\u001b[0m                            Traceback (most recent call last)",
      "\u001b[1;32m<ipython-input-70-d71d6f82ff71>\u001b[0m in \u001b[0;36m<module>\u001b[1;34m\u001b[0m\n\u001b[0;32m      1\u001b[0m \u001b[1;31m# Tuplas são imutáveis\u001b[0m\u001b[1;33m\u001b[0m\u001b[1;33m\u001b[0m\u001b[1;33m\u001b[0m\u001b[0m\n\u001b[1;32m----> 2\u001b[1;33m \u001b[0mtupla1\u001b[0m\u001b[1;33m.\u001b[0m\u001b[0mappend\u001b[0m\u001b[1;33m(\u001b[0m\u001b[1;34m\"olá\"\u001b[0m\u001b[1;33m)\u001b[0m\u001b[1;33m\u001b[0m\u001b[1;33m\u001b[0m\u001b[0m\n\u001b[0m",
      "\u001b[1;31mAttributeError\u001b[0m: 'tuple' object has no attribute 'append'"
     ]
    }
   ],
   "source": [
    "# Tuplas são imutáveis\n",
    "tupla1.append(\"olá\")"
   ]
  },
  {
   "cell_type": "code",
   "execution_count": 71,
   "id": "e0de29ad",
   "metadata": {},
   "outputs": [
    {
     "data": {
      "text/plain": [
       "'oi'"
      ]
     },
     "execution_count": 71,
     "metadata": {},
     "output_type": "execute_result"
    }
   ],
   "source": [
    "# procurando termo específico na tupla\n",
    "tupla1[0]"
   ]
  },
  {
   "cell_type": "code",
   "execution_count": 72,
   "id": "453ae32f",
   "metadata": {},
   "outputs": [
    {
     "data": {
      "text/plain": [
       "4"
      ]
     },
     "execution_count": 72,
     "metadata": {},
     "output_type": "execute_result"
    }
   ],
   "source": [
    "# achando o tamanho da tupla\n",
    "len(tupla1)"
   ]
  },
  {
   "cell_type": "code",
   "execution_count": 73,
   "id": "020684c3",
   "metadata": {},
   "outputs": [
    {
     "data": {
      "text/plain": [
       "(99, 'tchau', 100)"
      ]
     },
     "execution_count": 73,
     "metadata": {},
     "output_type": "execute_result"
    }
   ],
   "source": [
    "# Slicing\n",
    "tupla1[1:]"
   ]
  },
  {
   "cell_type": "code",
   "execution_count": 75,
   "id": "33017a8f",
   "metadata": {},
   "outputs": [
    {
     "data": {
      "text/plain": [
       "('oi', 99)"
      ]
     },
     "execution_count": 75,
     "metadata": {},
     "output_type": "execute_result"
    }
   ],
   "source": [
    "# Slicing\n",
    "tupla1[:2]"
   ]
  },
  {
   "cell_type": "code",
   "execution_count": 76,
   "id": "05f9297a",
   "metadata": {},
   "outputs": [
    {
     "name": "stdout",
     "output_type": "stream",
     "text": [
      "('oi', 99, 'tchau', 100)\n"
     ]
    }
   ],
   "source": [
    "print(tupla1)"
   ]
  },
  {
   "cell_type": "code",
   "execution_count": 77,
   "id": "3d15fec3",
   "metadata": {},
   "outputs": [],
   "source": [
    "# Deletando a tupla\n",
    "del tupla1"
   ]
  },
  {
   "cell_type": "code",
   "execution_count": 78,
   "id": "b5965af0",
   "metadata": {},
   "outputs": [
    {
     "ename": "NameError",
     "evalue": "name 'tupla1' is not defined",
     "output_type": "error",
     "traceback": [
      "\u001b[1;31m---------------------------------------------------------------------------\u001b[0m",
      "\u001b[1;31mNameError\u001b[0m                                 Traceback (most recent call last)",
      "\u001b[1;32m<ipython-input-78-a748d393d504>\u001b[0m in \u001b[0;36m<module>\u001b[1;34m\u001b[0m\n\u001b[1;32m----> 1\u001b[1;33m \u001b[0mprint\u001b[0m\u001b[1;33m(\u001b[0m\u001b[0mtupla1\u001b[0m\u001b[1;33m)\u001b[0m\u001b[1;33m\u001b[0m\u001b[1;33m\u001b[0m\u001b[0m\n\u001b[0m",
      "\u001b[1;31mNameError\u001b[0m: name 'tupla1' is not defined"
     ]
    }
   ],
   "source": [
    "print(tupla1)"
   ]
  },
  {
   "cell_type": "code",
   "execution_count": 83,
   "id": "7b0cd7d0",
   "metadata": {},
   "outputs": [
    {
     "name": "stdout",
     "output_type": "stream",
     "text": [
      "('oi', 99, 'tchau', 100)\n"
     ]
    }
   ],
   "source": [
    "tupla1 = (\"oi\", 99, \"tchau\", 100)\n",
    "print(tupla1)"
   ]
  },
  {
   "cell_type": "code",
   "execution_count": 84,
   "id": "35ef89eb",
   "metadata": {},
   "outputs": [
    {
     "name": "stdout",
     "output_type": "stream",
     "text": [
      "['oi', 99, 'tchau', 100, 'pode modificar agora']\n"
     ]
    }
   ],
   "source": [
    "# como mudar uma tupla?\n",
    "# mudamo-a para lista e depois fazemos as operações e voltamos para tupla\n",
    "listanova = list(tupla1)\n",
    "listanova.append(\"pode modificar agora\")\n",
    "print(listanova)"
   ]
  },
  {
   "cell_type": "code",
   "execution_count": 86,
   "id": "356d9d22",
   "metadata": {},
   "outputs": [
    {
     "name": "stdout",
     "output_type": "stream",
     "text": [
      "('oi', 99, 'tchau', 100, 'pode modificar agora')\n"
     ]
    }
   ],
   "source": [
    "tupla2 = tuple(listanova)\n",
    "print(tupla2)"
   ]
  }
 ],
 "metadata": {
  "kernelspec": {
   "display_name": "Python 3",
   "language": "python",
   "name": "python3"
  },
  "language_info": {
   "codemirror_mode": {
    "name": "ipython",
    "version": 3
   },
   "file_extension": ".py",
   "mimetype": "text/x-python",
   "name": "python",
   "nbconvert_exporter": "python",
   "pygments_lexer": "ipython3",
   "version": "3.8.8"
  }
 },
 "nbformat": 4,
 "nbformat_minor": 5
}
