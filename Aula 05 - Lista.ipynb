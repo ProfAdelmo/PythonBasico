{
 "cells": [
  {
   "cell_type": "markdown",
   "id": "9322e6eb",
   "metadata": {},
   "source": [
    "Python Básico\n",
    "\n",
    "Profº Adelmo Rodrigues\n",
    "\n",
    "https://github.com/ProfAdelmo"
   ]
  },
  {
   "cell_type": "markdown",
   "id": "930f9f90",
   "metadata": {},
   "source": [
    "Listas"
   ]
  },
  {
   "cell_type": "code",
   "execution_count": 8,
   "id": "20d56f8d",
   "metadata": {},
   "outputs": [],
   "source": [
    "# Criando uma lista\n",
    "lista1 = [\"oi\", \"fala\", \"agora\", \"tchau\"]"
   ]
  },
  {
   "cell_type": "code",
   "execution_count": 9,
   "id": "994ca8f6",
   "metadata": {},
   "outputs": [
    {
     "name": "stdout",
     "output_type": "stream",
     "text": [
      "['oi', 'fala', 'agora', 'tchau']\n"
     ]
    }
   ],
   "source": [
    "# Imprimindo uma lista\n",
    "print(lista1)"
   ]
  },
  {
   "cell_type": "code",
   "execution_count": 10,
   "id": "1b03cc5c",
   "metadata": {},
   "outputs": [
    {
     "name": "stdout",
     "output_type": "stream",
     "text": [
      "oi\n",
      "fala\n",
      "agora\n"
     ]
    }
   ],
   "source": [
    "# Atribuindo o valor da lista a uma variável\n",
    "x = lista1[0]\n",
    "y = lista1[1]\n",
    "z = lista1[2]\n",
    "print(x)\n",
    "print(y)\n",
    "print(z)"
   ]
  },
  {
   "cell_type": "code",
   "execution_count": 11,
   "id": "cf654448",
   "metadata": {},
   "outputs": [
    {
     "name": "stdout",
     "output_type": "stream",
     "text": [
      "agora\n"
     ]
    }
   ],
   "source": [
    "print(lista1[2])"
   ]
  },
  {
   "cell_type": "code",
   "execution_count": 14,
   "id": "9d70e9f2",
   "metadata": {},
   "outputs": [],
   "source": [
    "lista1[3]= \"vem\""
   ]
  },
  {
   "cell_type": "code",
   "execution_count": 15,
   "id": "fa9883a7",
   "metadata": {},
   "outputs": [
    {
     "name": "stdout",
     "output_type": "stream",
     "text": [
      "['oi', 'fala', 'agora', 'vem']\n"
     ]
    }
   ],
   "source": [
    "print(lista1)"
   ]
  },
  {
   "cell_type": "code",
   "execution_count": 16,
   "id": "0dac030e",
   "metadata": {},
   "outputs": [
    {
     "name": "stdout",
     "output_type": "stream",
     "text": [
      "['oi', 'agora', 'vem']\n"
     ]
    }
   ],
   "source": [
    "# Deletando um item da lista\n",
    "del lista1[1]\n",
    "print(lista1)"
   ]
  },
  {
   "cell_type": "code",
   "execution_count": 18,
   "id": "baac6fd2",
   "metadata": {},
   "outputs": [
    {
     "name": "stdout",
     "output_type": "stream",
     "text": [
      "['a', 'b', 'c', 3, 4, 5]\n"
     ]
    }
   ],
   "source": [
    "# Concatenando listas\n",
    "lista1 = [\"a\", \"b\", \"c\"]\n",
    "lista2 = [3, 4, 5]\n",
    "\n",
    "lista3 = lista1 + lista2\n",
    "\n",
    "print(lista3)"
   ]
  },
  {
   "cell_type": "code",
   "execution_count": 19,
   "id": "f820f1a8",
   "metadata": {},
   "outputs": [
    {
     "name": "stdout",
     "output_type": "stream",
     "text": [
      "True\n"
     ]
    }
   ],
   "source": [
    "# Verificando se o valor 4 pertence a lista\n",
    "print(4 in lista3)"
   ]
  },
  {
   "cell_type": "code",
   "execution_count": 20,
   "id": "3ee38ff4",
   "metadata": {},
   "outputs": [
    {
     "name": "stdout",
     "output_type": "stream",
     "text": [
      "False\n"
     ]
    }
   ],
   "source": [
    "# Verificando se o valor 6 pertence a lista\n",
    "print(6 in lista3)"
   ]
  },
  {
   "cell_type": "code",
   "execution_count": 21,
   "id": "6bc622b0",
   "metadata": {},
   "outputs": [
    {
     "data": {
      "text/plain": [
       "6"
      ]
     },
     "execution_count": 21,
     "metadata": {},
     "output_type": "execute_result"
    }
   ],
   "source": [
    "# len diz o tamanho da lista\n",
    "len(lista3)"
   ]
  },
  {
   "cell_type": "code",
   "execution_count": 22,
   "id": "807c9b4e",
   "metadata": {},
   "outputs": [
    {
     "ename": "TypeError",
     "evalue": "'>' not supported between instances of 'int' and 'str'",
     "output_type": "error",
     "traceback": [
      "\u001b[1;31m---------------------------------------------------------------------------\u001b[0m",
      "\u001b[1;31mTypeError\u001b[0m                                 Traceback (most recent call last)",
      "\u001b[1;32m<ipython-input-22-b2f7f0bd3910>\u001b[0m in \u001b[0;36m<module>\u001b[1;34m\u001b[0m\n\u001b[0;32m      1\u001b[0m \u001b[1;31m# max diz o máximo da lista\u001b[0m\u001b[1;33m\u001b[0m\u001b[1;33m\u001b[0m\u001b[1;33m\u001b[0m\u001b[0m\n\u001b[1;32m----> 2\u001b[1;33m \u001b[0mmax\u001b[0m\u001b[1;33m(\u001b[0m\u001b[0mlista3\u001b[0m\u001b[1;33m)\u001b[0m\u001b[1;33m\u001b[0m\u001b[1;33m\u001b[0m\u001b[0m\n\u001b[0m",
      "\u001b[1;31mTypeError\u001b[0m: '>' not supported between instances of 'int' and 'str'"
     ]
    }
   ],
   "source": [
    "# max diz o maior da lista\n",
    "max(lista3)"
   ]
  },
  {
   "cell_type": "code",
   "execution_count": 30,
   "id": "dc442515",
   "metadata": {},
   "outputs": [
    {
     "data": {
      "text/plain": [
       "6"
      ]
     },
     "execution_count": 30,
     "metadata": {},
     "output_type": "execute_result"
    }
   ],
   "source": [
    "lista3 = [1,2,3,4,5,6]\n",
    "max(lista3)"
   ]
  },
  {
   "cell_type": "code",
   "execution_count": 31,
   "id": "645c471c",
   "metadata": {},
   "outputs": [
    {
     "data": {
      "text/plain": [
       "1"
      ]
     },
     "execution_count": 31,
     "metadata": {},
     "output_type": "execute_result"
    }
   ],
   "source": [
    "# min diz o menor valor da lista\n",
    "min(lista3)"
   ]
  },
  {
   "cell_type": "code",
   "execution_count": 32,
   "id": "c005318b",
   "metadata": {},
   "outputs": [
    {
     "name": "stdout",
     "output_type": "stream",
     "text": [
      "[1, 2, 3, 4, 5, 6, 99]\n"
     ]
    }
   ],
   "source": [
    "# Adicionando um item à lista\n",
    "lista3.append(99)\n",
    "print(lista3)"
   ]
  },
  {
   "cell_type": "code",
   "execution_count": 33,
   "id": "451447d7",
   "metadata": {},
   "outputs": [
    {
     "data": {
      "text/plain": [
       "1"
      ]
     },
     "execution_count": 33,
     "metadata": {},
     "output_type": "execute_result"
    }
   ],
   "source": [
    "# contando quantos elementos tem\n",
    "lista3.count(5)"
   ]
  },
  {
   "cell_type": "code",
   "execution_count": 34,
   "id": "3076a204",
   "metadata": {},
   "outputs": [
    {
     "data": {
      "text/plain": [
       "1"
      ]
     },
     "execution_count": 34,
     "metadata": {},
     "output_type": "execute_result"
    }
   ],
   "source": [
    "# descobrindo a posição\n",
    "lista3.index(2)"
   ]
  },
  {
   "cell_type": "code",
   "execution_count": 35,
   "id": "f39d9c69",
   "metadata": {},
   "outputs": [
    {
     "name": "stdout",
     "output_type": "stream",
     "text": [
      "[1, 2, 3, 4, 5, 99]\n"
     ]
    }
   ],
   "source": [
    "# Remove um item da lista\n",
    "lista3.remove(6)\n",
    "print(lista3)"
   ]
  },
  {
   "cell_type": "code",
   "execution_count": 37,
   "id": "0dc0e030",
   "metadata": {},
   "outputs": [
    {
     "name": "stdout",
     "output_type": "stream",
     "text": [
      "[99, 5, 4, 3, 2, 1]\n"
     ]
    }
   ],
   "source": [
    "# Reverte a lista\n",
    "lista3.reverse()\n",
    "print(lista3)"
   ]
  },
  {
   "cell_type": "code",
   "execution_count": 40,
   "id": "1c956cff",
   "metadata": {},
   "outputs": [
    {
     "name": "stdout",
     "output_type": "stream",
     "text": [
      "[1, 2, 3, 4, 5, 99]\n"
     ]
    }
   ],
   "source": [
    "# Ordena a lista\n",
    "lista3.sort()\n",
    "print(lista3)"
   ]
  },
  {
   "cell_type": "code",
   "execution_count": 41,
   "id": "874c34c7",
   "metadata": {},
   "outputs": [
    {
     "name": "stdout",
     "output_type": "stream",
     "text": [
      "[1, 2, 3, 100, 4, 5, 99]\n"
     ]
    }
   ],
   "source": [
    "# coloca um elemento da posição especificada\n",
    "lista3.insert(3, 100)\n",
    "print(lista3)"
   ]
  }
 ],
 "metadata": {
  "kernelspec": {
   "display_name": "Python 3",
   "language": "python",
   "name": "python3"
  },
  "language_info": {
   "codemirror_mode": {
    "name": "ipython",
    "version": 3
   },
   "file_extension": ".py",
   "mimetype": "text/x-python",
   "name": "python",
   "nbconvert_exporter": "python",
   "pygments_lexer": "ipython3",
   "version": "3.8.8"
  }
 },
 "nbformat": 4,
 "nbformat_minor": 5
}
