{
 "cells": [
  {
   "cell_type": "markdown",
   "id": "f312db86",
   "metadata": {},
   "source": [
    "Python Básico\n",
    "\n",
    "Profº Adelmo Rodrigues\n",
    "\n",
    "https://github.com/ProfAdelmo"
   ]
  },
  {
   "cell_type": "markdown",
   "id": "1e4905c5",
   "metadata": {},
   "source": [
    "Dicionário (Chave/Valor) "
   ]
  },
  {
   "cell_type": "code",
   "execution_count": 42,
   "id": "e22c6479",
   "metadata": {},
   "outputs": [
    {
     "name": "stdout",
     "output_type": "stream",
     "text": [
      "{'alfa': 60, 'bravo': 80, 'charlie': 40, 'delta': 100}\n"
     ]
    }
   ],
   "source": [
    "# criando um dicionário\n",
    "dic1 = {\"alfa\":60, \"bravo\":80, \"charlie\":40, \"delta\":100}\n",
    "print(dic1)"
   ]
  },
  {
   "cell_type": "code",
   "execution_count": 43,
   "id": "3866aa81",
   "metadata": {},
   "outputs": [
    {
     "data": {
      "text/plain": [
       "40"
      ]
     },
     "execution_count": 43,
     "metadata": {},
     "output_type": "execute_result"
    }
   ],
   "source": [
    "# achando o valor pela Chave\n",
    "dic1[\"charlie\"]"
   ]
  },
  {
   "cell_type": "code",
   "execution_count": 44,
   "id": "382f2410",
   "metadata": {},
   "outputs": [
    {
     "data": {
      "text/plain": [
       "100"
      ]
     },
     "execution_count": 44,
     "metadata": {},
     "output_type": "execute_result"
    }
   ],
   "source": [
    "dic1[\"delta\"]"
   ]
  },
  {
   "cell_type": "code",
   "execution_count": 45,
   "id": "f8cb8cbb",
   "metadata": {},
   "outputs": [
    {
     "name": "stdout",
     "output_type": "stream",
     "text": [
      "{}\n"
     ]
    }
   ],
   "source": [
    "dic1.clear()\n",
    "print(dic1)"
   ]
  },
  {
   "cell_type": "code",
   "execution_count": 46,
   "id": "46f5ae6b",
   "metadata": {},
   "outputs": [],
   "source": [
    "del dic1"
   ]
  },
  {
   "cell_type": "code",
   "execution_count": 47,
   "id": "86d8febd",
   "metadata": {},
   "outputs": [
    {
     "ename": "NameError",
     "evalue": "name 'dic1' is not defined",
     "output_type": "error",
     "traceback": [
      "\u001b[1;31m---------------------------------------------------------------------------\u001b[0m",
      "\u001b[1;31mNameError\u001b[0m                                 Traceback (most recent call last)",
      "\u001b[1;32m<ipython-input-47-1ede3c50f3e3>\u001b[0m in \u001b[0;36m<module>\u001b[1;34m\u001b[0m\n\u001b[1;32m----> 1\u001b[1;33m \u001b[0mprint\u001b[0m\u001b[1;33m(\u001b[0m\u001b[0mdic1\u001b[0m\u001b[1;33m)\u001b[0m\u001b[1;33m\u001b[0m\u001b[1;33m\u001b[0m\u001b[0m\n\u001b[0m",
      "\u001b[1;31mNameError\u001b[0m: name 'dic1' is not defined"
     ]
    }
   ],
   "source": [
    "print(dic1)"
   ]
  },
  {
   "cell_type": "code",
   "execution_count": 57,
   "id": "2692c5c3",
   "metadata": {},
   "outputs": [
    {
     "name": "stdout",
     "output_type": "stream",
     "text": [
      "{'alfa': 60, 'bravo': 80, 'charlie': 40, 'delta': 100}\n"
     ]
    }
   ],
   "source": [
    "dic1 = {\"alfa\":60, \"bravo\":80, \"charlie\":40, \"delta\":100}\n",
    "print(dic1)"
   ]
  },
  {
   "cell_type": "code",
   "execution_count": 50,
   "id": "effc5936",
   "metadata": {},
   "outputs": [
    {
     "data": {
      "text/plain": [
       "4"
      ]
     },
     "execution_count": 50,
     "metadata": {},
     "output_type": "execute_result"
    }
   ],
   "source": [
    "# tamanho do dicionário\n",
    "len(dic1)"
   ]
  },
  {
   "cell_type": "code",
   "execution_count": 51,
   "id": "a9696790",
   "metadata": {},
   "outputs": [
    {
     "data": {
      "text/plain": [
       "dict_keys(['alfa', 'bravo', 'charlie', 'delta'])"
      ]
     },
     "execution_count": 51,
     "metadata": {},
     "output_type": "execute_result"
    }
   ],
   "source": [
    "# achar as chaves do dicionário\n",
    "dic1.keys()"
   ]
  },
  {
   "cell_type": "code",
   "execution_count": 52,
   "id": "22bf13ca",
   "metadata": {},
   "outputs": [
    {
     "data": {
      "text/plain": [
       "dict_values([60, 80, 40, 100])"
      ]
     },
     "execution_count": 52,
     "metadata": {},
     "output_type": "execute_result"
    }
   ],
   "source": [
    "# achar os valores do dicionário\n",
    "dic1.values()"
   ]
  },
  {
   "cell_type": "code",
   "execution_count": 53,
   "id": "1a782ec7",
   "metadata": {},
   "outputs": [
    {
     "data": {
      "text/plain": [
       "dict_items([('alfa', 60), ('bravo', 80), ('charlie', 40), ('delta', 100)])"
      ]
     },
     "execution_count": 53,
     "metadata": {},
     "output_type": "execute_result"
    }
   ],
   "source": [
    "# mostra os itens do dicionário\n",
    "dic1.items()"
   ]
  },
  {
   "cell_type": "code",
   "execution_count": 58,
   "id": "19f1549f",
   "metadata": {},
   "outputs": [
    {
     "name": "stdout",
     "output_type": "stream",
     "text": [
      "{'alfa2': 10, 'bravo2': 20, 'charlie2': 30}\n"
     ]
    }
   ],
   "source": [
    "dic2 = {\"alfa2\":10, \"bravo2\":20, \"charlie2\":30}\n",
    "print(dic2)"
   ]
  },
  {
   "cell_type": "code",
   "execution_count": 59,
   "id": "4db71901",
   "metadata": {},
   "outputs": [
    {
     "name": "stdout",
     "output_type": "stream",
     "text": [
      "{'alfa': 60, 'bravo': 80, 'charlie': 40, 'delta': 100, 'alfa2': 10, 'bravo2': 20, 'charlie2': 30}\n"
     ]
    }
   ],
   "source": [
    "# atualizar um dicionário com os parâmetros de outro dicionário\n",
    "dic1.update(dic2)\n",
    "print(dic1)"
   ]
  },
  {
   "cell_type": "code",
   "execution_count": 64,
   "id": "dfbaa2d5",
   "metadata": {},
   "outputs": [
    {
     "name": "stdout",
     "output_type": "stream",
     "text": [
      "80\n",
      "40\n",
      "1200\n"
     ]
    }
   ],
   "source": [
    "# operações com dicionário\n",
    "a = dic1['alfa'] + dic2[\"bravo2\"]\n",
    "b = dic1['alfa'] - dic2[\"bravo2\"]\n",
    "c = dic1['alfa'] * dic2[\"bravo2\"]\n",
    "print(a)\n",
    "print(b)\n",
    "print(c)"
   ]
  }
 ],
 "metadata": {
  "kernelspec": {
   "display_name": "Python 3",
   "language": "python",
   "name": "python3"
  },
  "language_info": {
   "codemirror_mode": {
    "name": "ipython",
    "version": 3
   },
   "file_extension": ".py",
   "mimetype": "text/x-python",
   "name": "python",
   "nbconvert_exporter": "python",
   "pygments_lexer": "ipython3",
   "version": "3.8.8"
  }
 },
 "nbformat": 4,
 "nbformat_minor": 5
}
